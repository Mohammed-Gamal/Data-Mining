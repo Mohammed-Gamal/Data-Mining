{
 "cells": [
  {
   "attachments": {},
   "cell_type": "markdown",
   "metadata": {},
   "source": [
    "### Importing the dataset"
   ]
  },
  {
   "cell_type": "code",
   "execution_count": 1,
   "metadata": {},
   "outputs": [
    {
     "name": "stdout",
     "output_type": "stream",
     "text": [
      "     Age   Race Marital Status N Stage 6th Stage  Tumor Size  Survival Months  \\\n",
      "0     68  White        Married      N1       IIA           4               60   \n",
      "1     50  White        Married      N2      IIIA          35               62   \n",
      "2     58  White       Divorced      N3      IIIC          63               75   \n",
      "3     58  White        Married      N1       IIA          18               84   \n",
      "4     47  White        Married      N1       IIB          41               50   \n",
      "..   ...    ...            ...     ...       ...         ...              ...   \n",
      "245   64  Black        Single       N1       IIA           9              103   \n",
      "246   66  White        Single       N1       IIA           8               96   \n",
      "247   45  White        Married      N1       IIB          28               40   \n",
      "248   37  White       Divorced      N1       IIA          15               78   \n",
      "249   50  Other        Married      N1       IIA          17               92   \n",
      "\n",
      "                 differentiate  \n",
      "0        Poorly differentiated  \n",
      "1    Moderately differentiated  \n",
      "2    Moderately differentiated  \n",
      "3        Poorly differentiated  \n",
      "4        Poorly differentiated  \n",
      "..                         ...  \n",
      "245      Poorly differentiated  \n",
      "246        Well differentiated  \n",
      "247      Poorly differentiated  \n",
      "248  Moderately differentiated  \n",
      "249  Moderately differentiated  \n",
      "\n",
      "[250 rows x 8 columns]\n"
     ]
    }
   ],
   "source": [
    "import pandas as pd\n",
    "\n",
    "Data_set = pd.read_csv(\"Breast_Cancer.csv\", delimiter=\",\")\n",
    "print(Data_set)"
   ]
  },
  {
   "attachments": {},
   "cell_type": "markdown",
   "metadata": {},
   "source": [
    "<hr />"
   ]
  },
  {
   "attachments": {},
   "cell_type": "markdown",
   "metadata": {},
   "source": [
    "### Getting the desired features (i.e., columns) from the dataset"
   ]
  },
  {
   "cell_type": "code",
   "execution_count": 2,
   "metadata": {},
   "outputs": [
    {
     "name": "stdout",
     "output_type": "stream",
     "text": [
      "Index(['Age', 'Race', 'Marital Status', 'N Stage', '6th Stage', 'Tumor Size',\n",
      "       'Survival Months'],\n",
      "      dtype='object')\n"
     ]
    }
   ],
   "source": [
    "Features_names = Data_set.columns[0:7]  # all except the 'differentiate' column\n",
    "print(Features_names)"
   ]
  },
  {
   "attachments": {},
   "cell_type": "markdown",
   "metadata": {},
   "source": [
    "<hr />"
   ]
  },
  {
   "attachments": {},
   "cell_type": "markdown",
   "metadata": {},
   "source": [
    "### Retrieving and formatting the target/goal (i.e., differentiate feature)"
   ]
  },
  {
   "cell_type": "code",
   "execution_count": 3,
   "metadata": {},
   "outputs": [
    {
     "name": "stdout",
     "output_type": "stream",
     "text": [
      "['Poorly differentiated', 'Moderately differentiated', 'Well differentiated']\n"
     ]
    }
   ],
   "source": [
    "target = Data_set['differentiate'].tolist()\n",
    "target = list(set(target))  # we used a set to retrieve the unique names only\n",
    "print(target)"
   ]
  },
  {
   "attachments": {},
   "cell_type": "markdown",
   "metadata": {},
   "source": [
    "<hr />"
   ]
  },
  {
   "attachments": {},
   "cell_type": "markdown",
   "metadata": {},
   "source": [
    "### Getting the values of the retrieved columns"
   ]
  },
  {
   "cell_type": "code",
   "execution_count": 4,
   "metadata": {},
   "outputs": [
    {
     "name": "stdout",
     "output_type": "stream",
     "text": [
      "[[68 'White' 'Married' ... 'IIA' 4 60]\n",
      " [50 'White' 'Married' ... 'IIIA' 35 62]\n",
      " [58 'White' 'Divorced' ... 'IIIC' 63 75]\n",
      " ...\n",
      " [45 'White' 'Married' ... 'IIB' 28 40]\n",
      " [37 'White' 'Divorced' ... 'IIA' 15 78]\n",
      " [50 'Other' 'Married' ... 'IIA' 17 92]]\n"
     ]
    }
   ],
   "source": [
    "X = Data_set[Features_names].values\n",
    "# Or Data_set[['Age', 'Race', 'Marital Status', 'N Stage', '6th Stage', 'Tumor Size', 'Survival Months']].values\n",
    "\n",
    "print(X)"
   ]
  },
  {
   "attachments": {},
   "cell_type": "markdown",
   "metadata": {},
   "source": [
    "<hr />"
   ]
  },
  {
   "attachments": {},
   "cell_type": "markdown",
   "metadata": {},
   "source": [
    "### Data Preprocessing Step (Categorical data to numeric data, for distance functions)\n",
    "##### LabelEncoder() is used to encode categorical data as numeric data"
   ]
  },
  {
   "cell_type": "code",
   "execution_count": 5,
   "metadata": {},
   "outputs": [
    {
     "name": "stdout",
     "output_type": "stream",
     "text": [
      "['White', 'Other', 'Black']\n",
      "['Separated', 'Divorced', 'Widowed', 'Married', 'Single ']\n",
      "['N3', 'N2', 'N1']\n",
      "['IIIB', 'IIIA', 'IIB', 'IIIC', 'IIA']\n"
     ]
    }
   ],
   "source": [
    "from sklearn import preprocessing\n",
    "\n",
    "# Race Feature\n",
    "label_Race_variations = Data_set['Race'].tolist()\n",
    "label_Race_variations = list(set(label_Race_variations))\n",
    "print(label_Race_variations)\n",
    "\n",
    "label_Race = preprocessing.LabelEncoder()\n",
    "label_Race.fit(label_Race_variations)  # ['White', 'Black', 'Other']\n",
    "X[:, 1] = label_Race.transform(X[:, 1])\n",
    "\n",
    "\n",
    "# Marital Status Feature\n",
    "label_Marital_Status_variations = Data_set['Marital Status'].tolist()\n",
    "label_Marital_Status_variations = list(set(label_Marital_Status_variations))\n",
    "print(label_Marital_Status_variations)\n",
    "\n",
    "label_Marital_Status = preprocessing.LabelEncoder()\n",
    "label_Marital_Status.fit(label_Marital_Status_variations)  # ['Married', 'Divorced', 'Single ', 'Widowed', 'Separated']\n",
    "X[:, 2] = label_Marital_Status.transform(X[:, 2])\n",
    "\n",
    "\n",
    "# N Stage Feature\n",
    "label_N_Stage_variations = Data_set['N Stage'].tolist()\n",
    "label_N_Stage_variations = list(set(label_N_Stage_variations))\n",
    "print(label_N_Stage_variations)\n",
    "\n",
    "label_N_Stage = preprocessing.LabelEncoder()\n",
    "label_N_Stage.fit(label_N_Stage_variations)  # ['N3', 'N2', 'N1']\n",
    "X[:, 3] = label_N_Stage.transform(X[:, 3])\n",
    "\n",
    "\n",
    "# 6th Stage Feature\n",
    "label_6th_Stage_variations = Data_set['6th Stage'].tolist()\n",
    "label_6th_Stage_variations = list(set(label_6th_Stage_variations))\n",
    "print(label_6th_Stage_variations)\n",
    "\n",
    "label_6th_Stage = preprocessing.LabelEncoder()\n",
    "label_6th_Stage.fit(label_6th_Stage_variations)  # ['IIIC', 'IIIA', 'IIIB', 'IIA', 'IIB']\n",
    "X[:, 4] = label_6th_Stage.transform(X[:, 4])\n",
    "\n",
    "\n",
    "# print(X)"
   ]
  },
  {
   "attachments": {},
   "cell_type": "markdown",
   "metadata": {},
   "source": [
    "<hr />"
   ]
  },
  {
   "attachments": {},
   "cell_type": "markdown",
   "metadata": {},
   "source": [
    "### Splitting the dataset into training and testing sets"
   ]
  },
  {
   "cell_type": "code",
   "execution_count": 6,
   "metadata": {},
   "outputs": [
    {
     "name": "stdout",
     "output_type": "stream",
     "text": [
      "0          Poorly differentiated\n",
      "1      Moderately differentiated\n",
      "2      Moderately differentiated\n",
      "3          Poorly differentiated\n",
      "4          Poorly differentiated\n",
      "                 ...            \n",
      "245        Poorly differentiated\n",
      "246          Well differentiated\n",
      "247        Poorly differentiated\n",
      "248    Moderately differentiated\n",
      "249    Moderately differentiated\n",
      "Name: differentiate, Length: 250, dtype: object\n",
      "(250, 8)\n",
      "(200, 7)\n",
      "(50, 7)\n",
      "(200,)\n",
      "(50,)\n"
     ]
    }
   ],
   "source": [
    "from sklearn.model_selection import train_test_split\n",
    "\n",
    "Y = Data_set[\"differentiate\"]  # Terget/Goal\n",
    "print(Y)\n",
    "\n",
    "# Dimensions of the dataset (i.e., rows and cols)\n",
    "print(Data_set.shape)\n",
    "\n",
    "# Split the data into (250 x 0.2 = 50 rows for testing) and (200 - 50 = 200 rows for training)\n",
    "X_train, X_test, Y_train, Y_test = train_test_split(X, Y, test_size=0.2, random_state=3)  # 3 samples per iteration\n",
    "\n",
    "print(X_train.shape)\n",
    "print(X_test.shape)\n",
    "\n",
    "print(Y_train.shape)\n",
    "print(Y_test.shape)"
   ]
  },
  {
   "attachments": {},
   "cell_type": "markdown",
   "metadata": {},
   "source": [
    "<hr />"
   ]
  },
  {
   "attachments": {},
   "cell_type": "markdown",
   "metadata": {},
   "source": [
    "### KNN (K-Nearest Neighbors) Classifier"
   ]
  },
  {
   "cell_type": "code",
   "execution_count": 7,
   "metadata": {},
   "outputs": [
    {
     "name": "stdout",
     "output_type": "stream",
     "text": [
      "(50,)\n",
      "\n",
      "Predicted by KNN:\n",
      " ['Poorly differentiated' 'Moderately differentiated'\n",
      " 'Moderately differentiated' 'Poorly differentiated'\n",
      " 'Poorly differentiated' 'Moderately differentiated'\n",
      " 'Moderately differentiated' 'Moderately differentiated'\n",
      " 'Moderately differentiated' 'Moderately differentiated'\n",
      " 'Moderately differentiated' 'Moderately differentiated'\n",
      " 'Moderately differentiated' 'Poorly differentiated'\n",
      " 'Moderately differentiated' 'Moderately differentiated'\n",
      " 'Poorly differentiated' 'Moderately differentiated'\n",
      " 'Moderately differentiated' 'Moderately differentiated'\n",
      " 'Moderately differentiated' 'Moderately differentiated'\n",
      " 'Moderately differentiated' 'Moderately differentiated'\n",
      " 'Moderately differentiated' 'Poorly differentiated'\n",
      " 'Moderately differentiated' 'Poorly differentiated'\n",
      " 'Moderately differentiated' 'Moderately differentiated'\n",
      " 'Moderately differentiated' 'Moderately differentiated'\n",
      " 'Moderately differentiated' 'Poorly differentiated'\n",
      " 'Moderately differentiated' 'Moderately differentiated'\n",
      " 'Moderately differentiated' 'Moderately differentiated'\n",
      " 'Poorly differentiated' 'Moderately differentiated'\n",
      " 'Moderately differentiated' 'Moderately differentiated'\n",
      " 'Moderately differentiated' 'Moderately differentiated'\n",
      " 'Poorly differentiated' 'Poorly differentiated'\n",
      " 'Moderately differentiated' 'Poorly differentiated'\n",
      " 'Moderately differentiated' 'Poorly differentiated']\n",
      "\n",
      "KNN confusion matrix:\n",
      " [[21 10  0]\n",
      " [11  3  0]\n",
      " [ 5  0  0]]\n",
      "\n",
      "KNN Accuracy:  0.48\n"
     ]
    }
   ],
   "source": [
    "from sklearn.neighbors import KNeighborsClassifier\n",
    "from sklearn import metrics\n",
    "\n",
    "# Apply the KNN classifier with n=3\n",
    "neigh = KNeighborsClassifier(n_neighbors=3)  # best value for n is sqrt(n)\n",
    "\n",
    "# Train the Model using Training Sets (i.e. Classified data)\n",
    "neigh.fit(X_train, Y_train)\n",
    "\n",
    "\n",
    "# Do prediction on the testing set\n",
    "predicted = neigh.predict(X_test)\n",
    "print(predicted.shape)\n",
    "print(\"\\nPredicted by KNN:\\n\", predicted)\n",
    "\n",
    "\n",
    "# Compare the predicted results with the predefined data (i.e., Accuracy)\n",
    "results = metrics.confusion_matrix(Y_test, predicted)\n",
    "print(\"\\nKNN confusion matrix:\\n\", results)\n",
    "\n",
    "print(\"\\nKNN Accuracy: \", metrics.accuracy_score(Y_test, predicted))"
   ]
  },
  {
   "attachments": {},
   "cell_type": "markdown",
   "metadata": {},
   "source": [
    "<hr />"
   ]
  },
  {
   "attachments": {},
   "cell_type": "markdown",
   "metadata": {},
   "source": [
    "### Naive Bayes Classifier"
   ]
  },
  {
   "cell_type": "code",
   "execution_count": 8,
   "metadata": {},
   "outputs": [
    {
     "name": "stdout",
     "output_type": "stream",
     "text": [
      "(50,)\n",
      "\n",
      "Predicted by Naive Bayes:\n",
      " ['Moderately differentiated' 'Moderately differentiated'\n",
      " 'Well differentiated' 'Poorly differentiated' 'Poorly differentiated'\n",
      " 'Moderately differentiated' 'Moderately differentiated'\n",
      " 'Poorly differentiated' 'Poorly differentiated' 'Well differentiated'\n",
      " 'Moderately differentiated' 'Moderately differentiated'\n",
      " 'Moderately differentiated' 'Poorly differentiated'\n",
      " 'Moderately differentiated' 'Well differentiated'\n",
      " 'Moderately differentiated' 'Moderately differentiated'\n",
      " 'Moderately differentiated' 'Well differentiated' 'Well differentiated'\n",
      " 'Well differentiated' 'Poorly differentiated' 'Moderately differentiated'\n",
      " 'Moderately differentiated' 'Moderately differentiated'\n",
      " 'Moderately differentiated' 'Moderately differentiated'\n",
      " 'Well differentiated' 'Moderately differentiated' 'Poorly differentiated'\n",
      " 'Moderately differentiated' 'Moderately differentiated'\n",
      " 'Moderately differentiated' 'Moderately differentiated'\n",
      " 'Moderately differentiated' 'Moderately differentiated'\n",
      " 'Well differentiated' 'Moderately differentiated' 'Poorly differentiated'\n",
      " 'Well differentiated' 'Well differentiated' 'Poorly differentiated'\n",
      " 'Poorly differentiated' 'Poorly differentiated'\n",
      " 'Moderately differentiated' 'Well differentiated' 'Poorly differentiated'\n",
      " 'Moderately differentiated' 'Moderately differentiated']\n",
      "\n",
      "Naive Bayes confusion matrix:\n",
      " [[17  7  7]\n",
      " [ 7  5  2]\n",
      " [ 3  0  2]]\n",
      "\n",
      "Naive Bayes Accuracy:  0.48\n"
     ]
    }
   ],
   "source": [
    "from sklearn.naive_bayes import GaussianNB\n",
    "from sklearn import metrics\n",
    "\n",
    "# Create a GaussianNB Classifier\n",
    "model = GaussianNB()\n",
    "\n",
    "# Train the Model using Training Sets (i.e. Classified data)\n",
    "model.fit(X_train, Y_train)\n",
    "\n",
    "\n",
    "# Do prediction on the testing set\n",
    "predicted = model.predict(X_test)\n",
    "print(predicted.shape)\n",
    "print(\"\\nPredicted by Naive Bayes:\\n\", predicted)\n",
    "\n",
    "\n",
    "# Compare the predicted results with the predefined data (i.e., Accuracy)\n",
    "results = metrics.confusion_matrix(Y_test, predicted)\n",
    "print(\"\\nNaive Bayes confusion matrix:\\n\", results)\n",
    "\n",
    "print(\"\\nNaive Bayes Accuracy: \", metrics.accuracy_score(Y_test, predicted))"
   ]
  }
 ],
 "metadata": {
  "kernelspec": {
   "display_name": "Python 3",
   "language": "python",
   "name": "python3"
  },
  "language_info": {
   "codemirror_mode": {
    "name": "ipython",
    "version": 3
   },
   "file_extension": ".py",
   "mimetype": "text/x-python",
   "name": "python",
   "nbconvert_exporter": "python",
   "pygments_lexer": "ipython3",
   "version": "3.11.1"
  },
  "orig_nbformat": 4,
  "vscode": {
   "interpreter": {
    "hash": "5238573367df39f7286bb46f9ff5f08f63a01a80960060ce41e3c79b190280fa"
   }
  }
 },
 "nbformat": 4,
 "nbformat_minor": 2
}
